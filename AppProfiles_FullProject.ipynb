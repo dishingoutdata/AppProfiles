{
 "cells": [
  {
   "cell_type": "markdown",
   "metadata": {},
   "source": [
    "# <ins>Profitable App Profiles for the App Store and Google Play Markets</ins>\n",
    "\n",
    "## Viewing and Exploring our data \n",
    "\n",
    "We'll begin by opening both datasets and exploring each one of them, trying to identify exactly which columns will be the most useful in our analysis. The App Store and Google Play have a combined number of apps that exceed 4 million, therefore in order to avoid any costs and reduce time for this entry level project, we'll be using smaller datasets to get a basic idea of which app profiles have the potential to be the most profitable. \n",
    "\n",
    "The code below first opens both our datasets as a list of lists, excluding the header, and then uses the explore_data function to print out a specified range of rows. The function also allows us to see how many total rows and columns there are in each dataset.  \n",
    "\n"
   ]
  },
  {
   "cell_type": "code",
   "execution_count": 16,
   "metadata": {},
   "outputs": [
    {
     "name": "stdout",
     "output_type": "stream",
     "text": [
      "['id', 'track_name', 'size_bytes', 'currency', 'price', 'rating_count_tot', 'rating_count_ver', 'user_rating', 'user_rating_ver', 'ver', 'cont_rating', 'prime_genre', 'sup_devices.num', 'ipadSc_urls.num', 'lang.num', 'vpp_lic']\n",
      "\n",
      "\n",
      "['284882215', 'Facebook', '389879808', 'USD', '0.0', '2974676', '212', '3.5', '3.5', '95.0', '4+', 'Social Networking', '37', '1', '29', '1']\n",
      "\n",
      "\n",
      "['389801252', 'Instagram', '113954816', 'USD', '0.0', '2161558', '1289', '4.5', '4.0', '10.23', '12+', 'Photo & Video', '37', '0', '29', '1']\n",
      "\n",
      "\n",
      "['529479190', 'Clash of Clans', '116476928', 'USD', '0.0', '2130805', '579', '4.5', '4.5', '9.24.12', '9+', 'Games', '38', '5', '18', '1']\n",
      "\n",
      "\n",
      "['420009108', 'Temple Run', '65921024', 'USD', '0.0', '1724546', '3842', '4.5', '4.0', '1.6.2', '9+', 'Games', '40', '5', '1', '1']\n",
      "\n",
      "\n",
      "['284035177', 'Pandora - Music & Radio', '130242560', 'USD', '0.0', '1126879', '3594', '4.0', '4.5', '8.4.1', '12+', 'Music', '37', '4', '1', '1']\n",
      "\n",
      "\n",
      "Number of rows: 7197\n",
      "Number of columns: 16\n",
      "-------------------------------------------------------------------------\n",
      "\n",
      "['App', 'Category', 'Rating', 'Reviews', 'Size', 'Installs', 'Type', 'Price', 'Content Rating', 'Genres', 'Last Updated', 'Current Ver', 'Android Ver']\n",
      "\n",
      "\n",
      "['Photo Editor & Candy Camera & Grid & ScrapBook', 'ART_AND_DESIGN', '4.1', '159', '19M', '10,000+', 'Free', '0', 'Everyone', 'Art & Design', 'January 7, 2018', '1.0.0', '4.0.3 and up']\n",
      "\n",
      "\n",
      "['Coloring book moana', 'ART_AND_DESIGN', '3.9', '967', '14M', '500,000+', 'Free', '0', 'Everyone', 'Art & Design;Pretend Play', 'January 15, 2018', '2.0.0', '4.0.3 and up']\n",
      "\n",
      "\n",
      "['U Launcher Lite – FREE Live Cool Themes, Hide Apps', 'ART_AND_DESIGN', '4.7', '87510', '8.7M', '5,000,000+', 'Free', '0', 'Everyone', 'Art & Design', 'August 1, 2018', '1.2.4', '4.0.3 and up']\n",
      "\n",
      "\n",
      "['Sketch - Draw & Paint', 'ART_AND_DESIGN', '4.5', '215644', '25M', '50,000,000+', 'Free', '0', 'Teen', 'Art & Design', 'June 8, 2018', 'Varies with device', '4.2 and up']\n",
      "\n",
      "\n",
      "['Pixel Draw - Number Art Coloring Book', 'ART_AND_DESIGN', '4.3', '967', '2.8M', '100,000+', 'Free', '0', 'Everyone', 'Art & Design;Creativity', 'June 20, 2018', '1.1', '4.4 and up']\n",
      "\n",
      "\n",
      "Number of rows: 10841\n",
      "Number of columns: 13\n"
     ]
    }
   ],
   "source": [
    "opened_file1 = open('AppleStore.csv')\n",
    "opened_file2 = open('googleplaystore.csv')\n",
    "from csv import reader\n",
    "read_file1 = reader(opened_file1)\n",
    "read_file2 = reader(opened_file2)\n",
    "apple_dataset = list(read_file1)\n",
    "google_dataset = list(read_file2)\n",
    "apple = apple_dataset[1:]\n",
    "google = google_dataset[1:]\n",
    "apple_columns = apple_dataset[0]\n",
    "google_columns = google_dataset[0]\n",
    "\n",
    "def explore_data(dataset, start, end, rows_and_columns=False):\n",
    "    dataset_slice = dataset[start:end]    \n",
    "    for row in dataset_slice:\n",
    "        print(row)\n",
    "        print('\\n') \n",
    "\n",
    "    if rows_and_columns:\n",
    "        print('Number of rows:', len(dataset))\n",
    "        print('Number of columns:', len(dataset[0]))\n",
    "\n",
    "\n",
    "print(apple_columns)\n",
    "print('\\n')\n",
    "explore_data(apple,0,5,True)\n",
    "print('-------------------------------------------------------------------------\\n')\n",
    "print(google_columns)\n",
    "print('\\n')\n",
    "explore_data(google,0,5,True)\n"
   ]
  },
  {
   "cell_type": "markdown",
   "metadata": {},
   "source": [
    "At a quick glance, the columns that might be useful for the purpose of our analysis from the Google dataset are: 'App', 'Category', 'Reviews', 'Installs', 'Price', and 'Genres'.\n",
    "\n",
    "The columns that might be useful from the Apple dataset are: 'track_name', 'price', 'rating_count_tot', and 'prime_genre'."
   ]
  },
  {
   "cell_type": "markdown",
   "metadata": {},
   "source": [
    "## Data Cleaning\n",
    "\n",
    "It is said that data scientists usually spend 80% of their time cleaning data. We want to make sure that we are analyzing the right information, otherwise our analysis will be useless and ineffective to the task at hand. When a company hires us it expects us to come up with results that will be impactful to its business model, therefore we have to make sure everything is accurate and this can be time consuming. In this project, the data cleaning process consists of four tasks:\n",
    "- Deleting Wrong Data\n",
    "- Removing Duplicate Entries\n",
    "- Removing Non-English Apps\n",
    "- Isolating the Free Apps\n",
    "\n",
    "Let's get started.\n",
    "\n",
    "### Deleting Wrong Data\n",
    "\n",
    "When analyzing a dataset you can either do it manually or we can search the internet to see if there are any inconsistencies with the particular dataset. If we were working for a big time client, we would surely do both, but for the sake of time and since this is a simple project, we'll scour the web to see if we find any information on the datasets. \n",
    "\n",
    "After properly searching the web, we found that the Google Play data set has a dedicated discussion section, and we can see that one of the discussions outlines an error for row 10472. Let's print this row and compare it against the header and another row that is correct:\n"
   ]
  },
  {
   "cell_type": "code",
   "execution_count": 17,
   "metadata": {},
   "outputs": [
    {
     "name": "stdout",
     "output_type": "stream",
     "text": [
      "----------------------------------------------------\n",
      "\n",
      "['App', 'Category', 'Rating', 'Reviews', 'Size', 'Installs', 'Type', 'Price', 'Content Rating', 'Genres', 'Last Updated', 'Current Ver', 'Android Ver']\n",
      "13\n",
      "\n",
      "\n",
      "['Life Made WI-Fi Touchscreen Photo Frame', '1.9', '19', '3.0M', '1,000+', 'Free', '0', 'Everyone', '', 'February 11, 2018', '1.0.19', '4.0 and up']\n",
      "12\n"
     ]
    }
   ],
   "source": [
    "print('----------------------------------------------------\\n')\n",
    "print(google_columns)\n",
    "print(len(google_columns))\n",
    "\n",
    "print('\\n')\n",
    "print(google[10472])\n",
    "print(len(google[10472]))\n"
   ]
  },
  {
   "cell_type": "markdown",
   "metadata": {},
   "source": [
    "The row 10472 corresponds to the app Life Made WI-Fi Touchscreen Photo Frame, and we can see that the rating is 19. This is clearly off because the maximum rating for a Google Play app is 5 (as mentioned in the discussions section, this problem is caused by a missing value in the 'Category' column). As a consequence, we'll delete this row and print out the same row to verify that it's been actually deleted:"
   ]
  },
  {
   "cell_type": "code",
   "execution_count": 19,
   "metadata": {},
   "outputs": [
    {
     "name": "stdout",
     "output_type": "stream",
     "text": [
      "['osmino Wi-Fi: free WiFi', 'TOOLS', '4.2', '134203', '4.1M', '10,000,000+', 'Free', '0', 'Everyone', 'Tools', 'August 7, 2018', '6.06.14', '4.4 and up']\n",
      "\n",
      "\n",
      "Length of Google dataset after deleting row with error:  10840\n"
     ]
    }
   ],
   "source": [
    "del google[10472]\n",
    "print(google[10472])\n",
    "print('\\n')\n",
    "print('Length of Google dataset after deleting row with error: ', len(google))\n"
   ]
  },
  {
   "cell_type": "markdown",
   "metadata": {},
   "source": [
    "The Apple store dataset seems to be correct and we didn't find any information on errors, therefore we will now move on to the next step of the data cleaning process."
   ]
  },
  {
   "cell_type": "markdown",
   "metadata": {},
   "source": [
    "### Removing Duplicate Entries\n",
    "\n",
    "We're going to continue cleaning our data by seeing if our datasets have any duplicate apps. Our code below will identify the number of duplicates and with that information we'll know how many apps we have to remove in each dataset:"
   ]
  },
  {
   "cell_type": "code",
   "execution_count": 20,
   "metadata": {},
   "outputs": [
    {
     "name": "stdout",
     "output_type": "stream",
     "text": [
      "Number of duplicate apps in Google dataset: 1181\n",
      "Number of unique apps in Google dataset: 9659\n"
     ]
    }
   ],
   "source": [
    "duplicate_apps_google = []\n",
    "unique_apps_google = []\n",
    "\n",
    "for app in google:\n",
    "    app_name = app[0]\n",
    "    if app_name in unique_apps_google:\n",
    "        duplicate_apps_google.append(app_name)\n",
    "    else:\n",
    "        unique_apps_google.append(app_name)\n",
    "\n",
    "print('Number of duplicate apps in Google dataset:', len(duplicate_apps_google))\n",
    "print('Number of unique apps in Google dataset:', len(unique_apps_google))\n",
    "\n"
   ]
  },
  {
   "cell_type": "code",
   "execution_count": 21,
   "metadata": {},
   "outputs": [
    {
     "name": "stdout",
     "output_type": "stream",
     "text": [
      "Number of duplicate apps in Apple dataset: 0\n",
      "Number of unique apps in Apple dataset: 7195\n"
     ]
    }
   ],
   "source": [
    "duplicate_apps_apple = {}\n",
    "unique_apps_apple = {}\n",
    "\n",
    "for app in apple:\n",
    "    app_id = int(app[0])\n",
    "    app_name = app[1]\n",
    "    if app_name in unique_apps_apple and unique_apps_apple[app_name] == app_id:\n",
    "        duplicate_apps_apple[app_name] = app_id\n",
    "    else:\n",
    "        unique_apps_apple[app_name] = app_id\n",
    "\n",
    "print('Number of duplicate apps in Apple dataset:', len(duplicate_apps_apple))\n",
    "print('Number of unique apps in Apple dataset:', len(unique_apps_apple))\n",
    "\n",
    "\n",
    "\n",
    "\n",
    "\n",
    "\n"
   ]
  },
  {
   "cell_type": "markdown",
   "metadata": {},
   "source": [
    "We see that the Apple dataset has no duplicate entries,so let's just print out some names of duplicates in the Google dataset:\n"
   ]
  },
  {
   "cell_type": "code",
   "execution_count": 22,
   "metadata": {},
   "outputs": [
    {
     "name": "stdout",
     "output_type": "stream",
     "text": [
      "['Quick PDF Scanner + OCR FREE', 'Box', 'Google My Business', 'ZOOM Cloud Meetings', 'join.me - Simple Meetings']\n"
     ]
    }
   ],
   "source": [
    "sample_data = duplicate_apps_google[:5]\n",
    "print(sample_data)\n"
   ]
  },
  {
   "cell_type": "markdown",
   "metadata": {},
   "source": [
    "Now, let's observe these duplicates:"
   ]
  },
  {
   "cell_type": "code",
   "execution_count": 23,
   "metadata": {},
   "outputs": [
    {
     "name": "stdout",
     "output_type": "stream",
     "text": [
      "['Quick PDF Scanner + OCR FREE', 'BUSINESS', '4.2', '80805', 'Varies with device', '5,000,000+', 'Free', '0', 'Everyone', 'Business', 'February 26, 2018', 'Varies with device', '4.0.3 and up']\n",
      "\n",
      "\n",
      "['Quick PDF Scanner + OCR FREE', 'BUSINESS', '4.2', '80805', 'Varies with device', '5,000,000+', 'Free', '0', 'Everyone', 'Business', 'February 26, 2018', 'Varies with device', '4.0.3 and up']\n",
      "\n",
      "\n",
      "['Quick PDF Scanner + OCR FREE', 'BUSINESS', '4.2', '80804', 'Varies with device', '5,000,000+', 'Free', '0', 'Everyone', 'Business', 'February 26, 2018', 'Varies with device', '4.0.3 and up']\n",
      "\n",
      "\n",
      "['Box', 'BUSINESS', '4.2', '159872', 'Varies with device', '10,000,000+', 'Free', '0', 'Everyone', 'Business', 'July 31, 2018', 'Varies with device', 'Varies with device']\n",
      "\n",
      "\n",
      "['Box', 'BUSINESS', '4.2', '159872', 'Varies with device', '10,000,000+', 'Free', '0', 'Everyone', 'Business', 'July 31, 2018', 'Varies with device', 'Varies with device']\n",
      "\n",
      "\n",
      "['Box', 'BUSINESS', '4.2', '159872', 'Varies with device', '10,000,000+', 'Free', '0', 'Everyone', 'Business', 'July 31, 2018', 'Varies with device', 'Varies with device']\n",
      "\n",
      "\n",
      "['Google My Business', 'BUSINESS', '4.4', '70991', 'Varies with device', '5,000,000+', 'Free', '0', 'Everyone', 'Business', 'July 24, 2018', '2.19.0.204537701', '4.4 and up']\n",
      "\n",
      "\n",
      "['Google My Business', 'BUSINESS', '4.4', '70991', 'Varies with device', '5,000,000+', 'Free', '0', 'Everyone', 'Business', 'July 24, 2018', '2.19.0.204537701', '4.4 and up']\n",
      "\n",
      "\n",
      "['Google My Business', 'BUSINESS', '4.4', '70991', 'Varies with device', '5,000,000+', 'Free', '0', 'Everyone', 'Business', 'July 24, 2018', '2.19.0.204537701', '4.4 and up']\n",
      "\n",
      "\n",
      "['ZOOM Cloud Meetings', 'BUSINESS', '4.4', '31614', '37M', '10,000,000+', 'Free', '0', 'Everyone', 'Business', 'July 20, 2018', '4.1.28165.0716', '4.0 and up']\n",
      "\n",
      "\n",
      "['ZOOM Cloud Meetings', 'BUSINESS', '4.4', '31614', '37M', '10,000,000+', 'Free', '0', 'Everyone', 'Business', 'July 20, 2018', '4.1.28165.0716', '4.0 and up']\n",
      "\n",
      "\n",
      "['join.me - Simple Meetings', 'BUSINESS', '4.0', '6989', 'Varies with device', '1,000,000+', 'Free', '0', 'Everyone', 'Business', 'July 16, 2018', '4.3.0.508', '4.4 and up']\n",
      "\n",
      "\n",
      "['join.me - Simple Meetings', 'BUSINESS', '4.0', '6989', 'Varies with device', '1,000,000+', 'Free', '0', 'Everyone', 'Business', 'July 16, 2018', '4.3.0.508', '4.4 and up']\n",
      "\n",
      "\n",
      "['join.me - Simple Meetings', 'BUSINESS', '4.0', '6989', 'Varies with device', '1,000,000+', 'Free', '0', 'Everyone', 'Business', 'July 16, 2018', '4.3.0.508', '4.4 and up']\n",
      "\n",
      "\n"
     ]
    }
   ],
   "source": [
    "for app_name in sample_data:\n",
    "    for app in google:\n",
    "        if app_name in app:\n",
    "            print(app)\n",
    "            print('\\n')\n",
    "            "
   ]
  },
  {
   "cell_type": "markdown",
   "metadata": {},
   "source": [
    "According to the first five duplicates, we can see that the columns are pretty much the same and there is barely any variance, therefore removing duplicates randomly would be justified. \n",
    "\n",
    "Let's print a few more rows:"
   ]
  },
  {
   "cell_type": "code",
   "execution_count": 24,
   "metadata": {},
   "outputs": [
    {
     "name": "stdout",
     "output_type": "stream",
     "text": [
      "['Quick PDF Scanner + OCR FREE', 'BUSINESS', '4.2', '80805', 'Varies with device', '5,000,000+', 'Free', '0', 'Everyone', 'Business', 'February 26, 2018', 'Varies with device', '4.0.3 and up']\n",
      "\n",
      "\n",
      "['Quick PDF Scanner + OCR FREE', 'BUSINESS', '4.2', '80805', 'Varies with device', '5,000,000+', 'Free', '0', 'Everyone', 'Business', 'February 26, 2018', 'Varies with device', '4.0.3 and up']\n",
      "\n",
      "\n",
      "['Quick PDF Scanner + OCR FREE', 'BUSINESS', '4.2', '80804', 'Varies with device', '5,000,000+', 'Free', '0', 'Everyone', 'Business', 'February 26, 2018', 'Varies with device', '4.0.3 and up']\n",
      "\n",
      "\n",
      "['Box', 'BUSINESS', '4.2', '159872', 'Varies with device', '10,000,000+', 'Free', '0', 'Everyone', 'Business', 'July 31, 2018', 'Varies with device', 'Varies with device']\n",
      "\n",
      "\n",
      "['Box', 'BUSINESS', '4.2', '159872', 'Varies with device', '10,000,000+', 'Free', '0', 'Everyone', 'Business', 'July 31, 2018', 'Varies with device', 'Varies with device']\n",
      "\n",
      "\n",
      "['Box', 'BUSINESS', '4.2', '159872', 'Varies with device', '10,000,000+', 'Free', '0', 'Everyone', 'Business', 'July 31, 2018', 'Varies with device', 'Varies with device']\n",
      "\n",
      "\n",
      "['Google My Business', 'BUSINESS', '4.4', '70991', 'Varies with device', '5,000,000+', 'Free', '0', 'Everyone', 'Business', 'July 24, 2018', '2.19.0.204537701', '4.4 and up']\n",
      "\n",
      "\n",
      "['Google My Business', 'BUSINESS', '4.4', '70991', 'Varies with device', '5,000,000+', 'Free', '0', 'Everyone', 'Business', 'July 24, 2018', '2.19.0.204537701', '4.4 and up']\n",
      "\n",
      "\n",
      "['Google My Business', 'BUSINESS', '4.4', '70991', 'Varies with device', '5,000,000+', 'Free', '0', 'Everyone', 'Business', 'July 24, 2018', '2.19.0.204537701', '4.4 and up']\n",
      "\n",
      "\n",
      "['ZOOM Cloud Meetings', 'BUSINESS', '4.4', '31614', '37M', '10,000,000+', 'Free', '0', 'Everyone', 'Business', 'July 20, 2018', '4.1.28165.0716', '4.0 and up']\n",
      "\n",
      "\n",
      "['ZOOM Cloud Meetings', 'BUSINESS', '4.4', '31614', '37M', '10,000,000+', 'Free', '0', 'Everyone', 'Business', 'July 20, 2018', '4.1.28165.0716', '4.0 and up']\n",
      "\n",
      "\n",
      "['join.me - Simple Meetings', 'BUSINESS', '4.0', '6989', 'Varies with device', '1,000,000+', 'Free', '0', 'Everyone', 'Business', 'July 16, 2018', '4.3.0.508', '4.4 and up']\n",
      "\n",
      "\n",
      "['join.me - Simple Meetings', 'BUSINESS', '4.0', '6989', 'Varies with device', '1,000,000+', 'Free', '0', 'Everyone', 'Business', 'July 16, 2018', '4.3.0.508', '4.4 and up']\n",
      "\n",
      "\n",
      "['join.me - Simple Meetings', 'BUSINESS', '4.0', '6989', 'Varies with device', '1,000,000+', 'Free', '0', 'Everyone', 'Business', 'July 16, 2018', '4.3.0.508', '4.4 and up']\n",
      "\n",
      "\n",
      "['Box', 'BUSINESS', '4.2', '159872', 'Varies with device', '10,000,000+', 'Free', '0', 'Everyone', 'Business', 'July 31, 2018', 'Varies with device', 'Varies with device']\n",
      "\n",
      "\n",
      "['Box', 'BUSINESS', '4.2', '159872', 'Varies with device', '10,000,000+', 'Free', '0', 'Everyone', 'Business', 'July 31, 2018', 'Varies with device', 'Varies with device']\n",
      "\n",
      "\n",
      "['Box', 'BUSINESS', '4.2', '159872', 'Varies with device', '10,000,000+', 'Free', '0', 'Everyone', 'Business', 'July 31, 2018', 'Varies with device', 'Varies with device']\n",
      "\n",
      "\n",
      "['Zenefits', 'BUSINESS', '4.2', '296', '14M', '50,000+', 'Free', '0', 'Everyone', 'Business', 'June 15, 2018', '3.2.1', '4.1 and up']\n",
      "\n",
      "\n",
      "['Zenefits', 'BUSINESS', '4.2', '296', '14M', '50,000+', 'Free', '0', 'Everyone', 'Business', 'June 15, 2018', '3.2.1', '4.1 and up']\n",
      "\n",
      "\n",
      "['Google Ads', 'BUSINESS', '4.3', '29313', '20M', '5,000,000+', 'Free', '0', 'Everyone', 'Business', 'July 30, 2018', '1.12.0', '4.0.3 and up']\n",
      "\n",
      "\n",
      "['Google Ads', 'BUSINESS', '4.3', '29313', '20M', '5,000,000+', 'Free', '0', 'Everyone', 'Business', 'July 30, 2018', '1.12.0', '4.0.3 and up']\n",
      "\n",
      "\n",
      "['Google Ads', 'BUSINESS', '4.3', '29331', '20M', '5,000,000+', 'Free', '0', 'Everyone', 'Business', 'July 30, 2018', '1.12.0', '4.0.3 and up']\n",
      "\n",
      "\n",
      "['Google My Business', 'BUSINESS', '4.4', '70991', 'Varies with device', '5,000,000+', 'Free', '0', 'Everyone', 'Business', 'July 24, 2018', '2.19.0.204537701', '4.4 and up']\n",
      "\n",
      "\n",
      "['Google My Business', 'BUSINESS', '4.4', '70991', 'Varies with device', '5,000,000+', 'Free', '0', 'Everyone', 'Business', 'July 24, 2018', '2.19.0.204537701', '4.4 and up']\n",
      "\n",
      "\n",
      "['Google My Business', 'BUSINESS', '4.4', '70991', 'Varies with device', '5,000,000+', 'Free', '0', 'Everyone', 'Business', 'July 24, 2018', '2.19.0.204537701', '4.4 and up']\n",
      "\n",
      "\n",
      "['Slack', 'BUSINESS', '4.4', '51507', 'Varies with device', '5,000,000+', 'Free', '0', 'Everyone', 'Business', 'August 2, 2018', 'Varies with device', 'Varies with device']\n",
      "\n",
      "\n",
      "['Slack', 'BUSINESS', '4.4', '51507', 'Varies with device', '5,000,000+', 'Free', '0', 'Everyone', 'Business', 'August 2, 2018', 'Varies with device', 'Varies with device']\n",
      "\n",
      "\n",
      "['Slack', 'BUSINESS', '4.4', '51510', 'Varies with device', '5,000,000+', 'Free', '0', 'Everyone', 'Business', 'August 2, 2018', 'Varies with device', 'Varies with device']\n",
      "\n",
      "\n",
      "['FreshBooks Classic', 'BUSINESS', '4.1', '1802', '26M', '100,000+', 'Free', '0', 'Everyone', 'Business', 'April 18, 2018', '1.7.14', '4.2 and up']\n",
      "\n",
      "\n",
      "['FreshBooks Classic', 'BUSINESS', '4.1', '1802', '26M', '100,000+', 'Free', '0', 'Everyone', 'Business', 'April 18, 2018', '1.7.14', '4.2 and up']\n",
      "\n",
      "\n",
      "['Insightly CRM', 'BUSINESS', '3.8', '1383', '51M', '100,000+', 'Free', '0', 'Everyone', 'Business', 'July 12, 2018', '3.24.1', '5.0 and up']\n",
      "\n",
      "\n",
      "['Insightly CRM', 'BUSINESS', '3.8', '1383', '51M', '100,000+', 'Free', '0', 'Everyone', 'Business', 'July 12, 2018', '3.24.1', '5.0 and up']\n",
      "\n",
      "\n",
      "['QuickBooks Accounting: Invoicing & Expenses', 'BUSINESS', '4.3', '23175', '41M', '1,000,000+', 'Free', '0', 'Everyone', 'Business', 'July 13, 2018', '18.7', '4.1 and up']\n",
      "\n",
      "\n",
      "['QuickBooks Accounting: Invoicing & Expenses', 'BUSINESS', '4.3', '23175', '41M', '1,000,000+', 'Free', '0', 'Everyone', 'Business', 'July 13, 2018', '18.7', '4.1 and up']\n",
      "\n",
      "\n",
      "['QuickBooks Accounting: Invoicing & Expenses', 'BUSINESS', '4.3', '23175', '41M', '1,000,000+', 'Free', '0', 'Everyone', 'Business', 'July 13, 2018', '18.7', '4.1 and up']\n",
      "\n",
      "\n",
      "['HipChat - Chat Built for Teams', 'BUSINESS', '3.8', '5868', '20M', '500,000+', 'Free', '0', 'Everyone', 'Business', 'July 3, 2018', '3.19.005', '4.1 and up']\n",
      "\n",
      "\n",
      "['HipChat - Chat Built for Teams', 'BUSINESS', '3.8', '5868', '20M', '500,000+', 'Free', '0', 'Everyone', 'Business', 'July 3, 2018', '3.19.005', '4.1 and up']\n",
      "\n",
      "\n",
      "['Xero Accounting Software', 'BUSINESS', '3.5', '2111', 'Varies with device', '100,000+', 'Free', '0', 'Everyone', 'Business', 'July 30, 2018', 'Varies with device', 'Varies with device']\n",
      "\n",
      "\n",
      "['Xero Accounting Software', 'BUSINESS', '3.5', '2111', 'Varies with device', '100,000+', 'Free', '0', 'Everyone', 'Business', 'July 30, 2018', 'Varies with device', 'Varies with device']\n",
      "\n",
      "\n",
      "['MailChimp - Email, Marketing Automation', 'BUSINESS', '4.1', '5448', '12M', '500,000+', 'Free', '0', 'Everyone', 'Business', 'July 25, 2018', '4.9.1', '5.0 and up']\n",
      "\n",
      "\n",
      "['MailChimp - Email, Marketing Automation', 'BUSINESS', '4.1', '5448', '12M', '500,000+', 'Free', '0', 'Everyone', 'Business', 'July 25, 2018', '4.9.1', '5.0 and up']\n",
      "\n",
      "\n",
      "['Crew - Free Messaging and Scheduling', 'BUSINESS', '4.6', '4159', '48M', '500,000+', 'Free', '0', 'Everyone', 'Business', 'July 20, 2018', '6.1.2', '4.0.3 and up']\n",
      "\n",
      "\n",
      "['Crew - Free Messaging and Scheduling', 'BUSINESS', '4.6', '4159', '48M', '500,000+', 'Free', '0', 'Everyone', 'Business', 'July 20, 2018', '6.1.2', '4.0.3 and up']\n",
      "\n",
      "\n",
      "['Asana: organize team projects', 'BUSINESS', '4.3', '20815', '10M', '1,000,000+', 'Free', '0', 'Everyone', 'Business', 'July 26, 2018', '6.4.4', '5.0 and up']\n",
      "\n",
      "\n",
      "['Asana: organize team projects', 'BUSINESS', '4.3', '20815', '10M', '1,000,000+', 'Free', '0', 'Everyone', 'Business', 'July 26, 2018', '6.4.4', '5.0 and up']\n",
      "\n",
      "\n",
      "['Google Analytics', 'BUSINESS', '4.5', '78662', '22M', '1,000,000+', 'Free', '0', 'Everyone', 'Business', 'February 13, 2018', '3.7.5', '4.4 and up']\n",
      "\n",
      "\n",
      "['Google Analytics', 'BUSINESS', '4.5', '78662', '22M', '1,000,000+', 'Free', '0', 'Everyone', 'Business', 'February 13, 2018', '3.7.5', '4.4 and up']\n",
      "\n",
      "\n",
      "['AdWords Express', 'BUSINESS', '4.1', '7149', '11M', '1,000,000+', 'Free', '0', 'Everyone', 'Business', 'July 31, 2018', '2.6.158', '4.0 and up']\n",
      "\n",
      "\n",
      "['AdWords Express', 'BUSINESS', '4.1', '7149', '11M', '1,000,000+', 'Free', '0', 'Everyone', 'Business', 'July 31, 2018', '2.6.158', '4.0 and up']\n",
      "\n",
      "\n"
     ]
    }
   ],
   "source": [
    "sample_data = duplicate_apps_google[:20]\n",
    "for app_name in sample_data:\n",
    "    for app in google:\n",
    "        if app_name in app:\n",
    "            print(app)\n",
    "            print('\\n')"
   ]
  },
  {
   "cell_type": "markdown",
   "metadata": {},
   "source": [
    "If you observe each column carefully, you would have been able to see that there is one column that does display a tiny bit of variance, which is the reviews column. Some reviews are different than others, therefore this should be a criteria for cleaning up removing the duplicates to preserve efficiency in our data. We will keep the row with the higher number of reviews as it indicates that this particular row of data is more recent. \n",
    "\n",
    "The way we will go about removing the duplicates will be to create a dictionary whose keys will be the name of the unique apps and values will be the highest number of reviews. Before we code our dictionary, let's see how many unique apps there should be:"
   ]
  },
  {
   "cell_type": "code",
   "execution_count": 25,
   "metadata": {},
   "outputs": [
    {
     "name": "stdout",
     "output_type": "stream",
     "text": [
      "Number of unique apps: 9659\n"
     ]
    }
   ],
   "source": [
    "print('Number of unique apps:' , len(unique_apps_google))"
   ]
  },
  {
   "cell_type": "markdown",
   "metadata": {},
   "source": [
    "Let's verify this number again with a more mathematical approach using the following code:"
   ]
  },
  {
   "cell_type": "code",
   "execution_count": 26,
   "metadata": {},
   "outputs": [
    {
     "name": "stdout",
     "output_type": "stream",
     "text": [
      "Number of unique apps: 9659\n"
     ]
    }
   ],
   "source": [
    "print('Number of unique apps:' , len(google) - len(duplicate_apps_google))"
   ]
  },
  {
   "cell_type": "markdown",
   "metadata": {},
   "source": [
    "Now let's code our dictionary to include our unique apps as keys and our criterion of only using the duplicates with the highest reviews as the values:"
   ]
  },
  {
   "cell_type": "code",
   "execution_count": 27,
   "metadata": {},
   "outputs": [],
   "source": [
    "reviews_max = {}\n",
    "for app in google:\n",
    "    name = app[0]\n",
    "    n_reviews = float(app[3])\n",
    "    if name in reviews_max and reviews_max[name] < n_reviews:\n",
    "        reviews_max[name] = n_reviews\n",
    "    elif name not in reviews_max:\n",
    "        reviews_max[name] = n_reviews"
   ]
  },
  {
   "cell_type": "markdown",
   "metadata": {},
   "source": [
    "To verify that this is correct, all we do is get the length of our dictionary and make sure it equals the number of unique apps: "
   ]
  },
  {
   "cell_type": "code",
   "execution_count": 28,
   "metadata": {},
   "outputs": [
    {
     "name": "stdout",
     "output_type": "stream",
     "text": [
      "True\n"
     ]
    }
   ],
   "source": [
    "print(len(unique_apps_google) == len(reviews_max))"
   ]
  },
  {
   "cell_type": "markdown",
   "metadata": {},
   "source": [
    "Before we move on, our last step in removing duplicates is to make sure we only have one unique entry for each app with the highest reviews. If you explore the dataset, you can see that most apps have more than two entries with highest reviews, therefore we need to make sure we only use one of these entries. For example, the Box app has three entries, and the number of reviews is the same. If we just check for reviews_max[name] == n_reviews, we'll still end up with duplicate entries for some apps. Here is the code for our final list, without ANY duplicates:"
   ]
  },
  {
   "cell_type": "code",
   "execution_count": 29,
   "metadata": {},
   "outputs": [
    {
     "name": "stdout",
     "output_type": "stream",
     "text": [
      "9659\n"
     ]
    }
   ],
   "source": [
    "android_clean = []\n",
    "already_added = []\n",
    "\n",
    "for app in google:\n",
    "    name = app[0]\n",
    "    n_reviews = float(app[3])\n",
    "    if n_reviews == reviews_max[name] and name not in already_added:\n",
    "        android_clean.append(app)\n",
    "        already_added.append(name)\n",
    "\n",
    "print(len(android_clean))        \n"
   ]
  },
  {
   "cell_type": "markdown",
   "metadata": {},
   "source": [
    "We used the reviews_max dictionary here because we know it contains all the entries we want, but we only want one row from all those entries because they are identical. Line 7 adds the condition we're looking for in order to get a truly unique list as it extracts only one row from reviews_max and adds it to the list of lists android_clean, which is our desired result in this second task. \n",
    "\n",
    "Let's continue to the next step."
   ]
  },
  {
   "cell_type": "markdown",
   "metadata": {},
   "source": [
    "### Removing Non-English Apps\n",
    "\n",
    "Our company is only interested in analyzing the most popular English apps at this point, therefore we will further curb our data to only include apps developed in English. In order to achieve a list of only English apps, we first have to define what an English app consists of and how we can identify them. According to the ASCII (American Standard Code for Information Interchange) system, the numbers corresponding to the characters we commonly use in the English language are all in the range 0 to 127. With this information, we'll first construct a function that checks if an app is English:  "
   ]
  },
  {
   "cell_type": "code",
   "execution_count": 30,
   "metadata": {},
   "outputs": [
    {
     "name": "stdout",
     "output_type": "stream",
     "text": [
      "True\n",
      "False\n",
      "True\n",
      "True\n"
     ]
    }
   ],
   "source": [
    "def isEnglish(string):\n",
    "    \n",
    "    non_english_chars = ''\n",
    "    \n",
    "    for character in string:\n",
    "        \n",
    "        if ord(character) > 127:\n",
    "            non_english_chars += character\n",
    "            if len(non_english_chars) > 3:\n",
    "                return False\n",
    "    return True\n",
    "\n",
    "print(isEnglish('Instagram'))\n",
    "print(isEnglish('爱奇艺PPS -《欢乐颂2》电视剧热播'))\n",
    "print(isEnglish('Docs To Go™ Free Office Suite'))\n",
    "print(isEnglish('Instachat 😜'))"
   ]
  },
  {
   "cell_type": "markdown",
   "metadata": {},
   "source": [
    "As you can see we used a nested if statement in our function to include any characters outside the ASCII range and that have corresponding numbers over 127. The reason for this is some english apps in our datasets include characters like emojis and trademark labels that we do not want to exclude because it will exclude the app itself. In order to avoid this, our code includes a clause(if len(non_english_chars) > 3) that will label an app as non-english if a string has more than 3 non-english characters. \n",
    "\n",
    "Next, we'll use our isEnglish function to create a program that creates a list of lists of english and non-english apps for both datasets:  "
   ]
  },
  {
   "cell_type": "code",
   "execution_count": 31,
   "metadata": {},
   "outputs": [
    {
     "name": "stdout",
     "output_type": "stream",
     "text": [
      "['Photo Editor & Candy Camera & Grid & ScrapBook', 'ART_AND_DESIGN', '4.1', '159', '19M', '10,000+', 'Free', '0', 'Everyone', 'Art & Design', 'January 7, 2018', '1.0.0', '4.0.3 and up']\n",
      "\n",
      "\n",
      "['U Launcher Lite – FREE Live Cool Themes, Hide Apps', 'ART_AND_DESIGN', '4.7', '87510', '8.7M', '5,000,000+', 'Free', '0', 'Everyone', 'Art & Design', 'August 1, 2018', '1.2.4', '4.0.3 and up']\n",
      "\n",
      "\n",
      "['Sketch - Draw & Paint', 'ART_AND_DESIGN', '4.5', '215644', '25M', '50,000,000+', 'Free', '0', 'Teen', 'Art & Design', 'June 8, 2018', 'Varies with device', '4.2 and up']\n",
      "\n",
      "\n",
      "['Pixel Draw - Number Art Coloring Book', 'ART_AND_DESIGN', '4.3', '967', '2.8M', '100,000+', 'Free', '0', 'Everyone', 'Art & Design;Creativity', 'June 20, 2018', '1.1', '4.4 and up']\n",
      "\n",
      "\n",
      "['Paper flowers instructions', 'ART_AND_DESIGN', '4.4', '167', '5.6M', '50,000+', 'Free', '0', 'Everyone', 'Art & Design', 'March 26, 2017', '1.0', '2.3 and up']\n",
      "\n",
      "\n",
      "['Smoke Effect Photo Maker - Smoke Editor', 'ART_AND_DESIGN', '3.8', '178', '19M', '50,000+', 'Free', '0', 'Everyone', 'Art & Design', 'April 26, 2018', '1.1', '4.0.3 and up']\n",
      "\n",
      "\n",
      "['Infinite Painter', 'ART_AND_DESIGN', '4.1', '36815', '29M', '1,000,000+', 'Free', '0', 'Everyone', 'Art & Design', 'June 14, 2018', '6.1.61.1', '4.2 and up']\n",
      "\n",
      "\n",
      "['Garden Coloring Book', 'ART_AND_DESIGN', '4.4', '13791', '33M', '1,000,000+', 'Free', '0', 'Everyone', 'Art & Design', 'September 20, 2017', '2.9.2', '3.0 and up']\n",
      "\n",
      "\n",
      "['Kids Paint Free - Drawing Fun', 'ART_AND_DESIGN', '4.7', '121', '3.1M', '10,000+', 'Free', '0', 'Everyone', 'Art & Design;Creativity', 'July 3, 2018', '2.8', '4.0.3 and up']\n",
      "\n",
      "\n",
      "['Text on Photo - Fonteee', 'ART_AND_DESIGN', '4.4', '13880', '28M', '1,000,000+', 'Free', '0', 'Everyone', 'Art & Design', 'October 27, 2017', '1.0.4', '4.1 and up']\n",
      "\n",
      "\n",
      "Number of rows: 9614\n",
      "Number of columns: 13\n",
      "\n",
      "\n",
      "['Flame - درب عقلك يوميا', 'EDUCATION', '4.6', '56065', '37M', '1,000,000+', 'Free', '0', 'Everyone', 'Education', 'July 26, 2018', '3.3', '4.1 and up']\n",
      "\n",
      "\n",
      "['သိင်္ Astrology - Min Thein Kha BayDin', 'LIFESTYLE', '4.7', '2225', '15M', '100,000+', 'Free', '0', 'Everyone', 'Lifestyle', 'July 26, 2018', '4.2.1', '4.0.3 and up']\n",
      "\n",
      "\n",
      "['РИА Новости', 'NEWS_AND_MAGAZINES', '4.5', '44274', '8.0M', '1,000,000+', 'Free', '0', 'Everyone', 'News & Magazines', 'August 6, 2018', '4.0.6', '4.4 and up']\n",
      "\n",
      "\n",
      "['صور حرف H', 'ART_AND_DESIGN', '4.4', '13', '4.5M', '1,000+', 'Free', '0', 'Everyone', 'Art & Design', 'March 27, 2018', '2.0', '4.0.3 and up']\n",
      "\n",
      "\n",
      "['L.POINT - 엘포인트 [ 포인트, 멤버십, 적립, 사용, 모바일 카드, 쿠폰, 롯데]', 'LIFESTYLE', '4.0', '45224', '49M', '5,000,000+', 'Free', '0', 'Everyone', 'Lifestyle', 'August 1, 2018', '6.5.1', '4.1 and up']\n",
      "\n",
      "\n",
      "['RMEduS - 음성인식을 활용한 R 프로그래밍 실습 시스템', 'FAMILY', 'NaN', '4', '64M', '1+', 'Free', '0', 'Everyone', 'Education', 'July 17, 2018', '1.0.1', '4.4 and up']\n",
      "\n",
      "\n",
      "['AJ렌터카 법인 카셰어링', 'MAPS_AND_NAVIGATION', 'NaN', '0', '27M', '10+', 'Free', '0', 'Everyone', 'Maps & Navigation', 'July 30, 2018', '1.0.0.0', '4.3 and up']\n",
      "\n",
      "\n",
      "['Al Quran Free - القرآن (Islam)', 'BOOKS_AND_REFERENCE', '4.7', '1777', '23M', '50,000+', 'Free', '0', 'Everyone', 'Books & Reference', 'February 15, 2015', '1.1', '2.2 and up']\n",
      "\n",
      "\n",
      "['中国語 AQリスニング', 'FAMILY', 'NaN', '21', '17M', '5,000+', 'Free', '0', 'Everyone', 'Education', 'June 22, 2016', '2.4.0', '4.0 and up']\n",
      "\n",
      "\n",
      "['日本AV历史', 'BOOKS_AND_REFERENCE', '4.1', '215', '30M', '10,000+', 'Free', '0', 'Teen', 'Books & Reference', 'March 6, 2018', '1.2', '4.0 and up']\n",
      "\n",
      "\n",
      "Number of rows: 45\n",
      "Number of columns: 13\n",
      "\n",
      "\n",
      "['284882215', 'Facebook', '389879808', 'USD', '0.0', '2974676', '212', '3.5', '3.5', '95.0', '4+', 'Social Networking', '37', '1', '29', '1']\n",
      "\n",
      "\n",
      "['389801252', 'Instagram', '113954816', 'USD', '0.0', '2161558', '1289', '4.5', '4.0', '10.23', '12+', 'Photo & Video', '37', '0', '29', '1']\n",
      "\n",
      "\n",
      "['529479190', 'Clash of Clans', '116476928', 'USD', '0.0', '2130805', '579', '4.5', '4.5', '9.24.12', '9+', 'Games', '38', '5', '18', '1']\n",
      "\n",
      "\n",
      "['420009108', 'Temple Run', '65921024', 'USD', '0.0', '1724546', '3842', '4.5', '4.0', '1.6.2', '9+', 'Games', '40', '5', '1', '1']\n",
      "\n",
      "\n",
      "['284035177', 'Pandora - Music & Radio', '130242560', 'USD', '0.0', '1126879', '3594', '4.0', '4.5', '8.4.1', '12+', 'Music', '37', '4', '1', '1']\n",
      "\n",
      "\n",
      "['429047995', 'Pinterest', '74778624', 'USD', '0.0', '1061624', '1814', '4.5', '4.0', '6.26', '12+', 'Social Networking', '37', '5', '27', '1']\n",
      "\n",
      "\n",
      "['282935706', 'Bible', '92774400', 'USD', '0.0', '985920', '5320', '4.5', '5.0', '7.5.1', '4+', 'Reference', '37', '5', '45', '1']\n",
      "\n",
      "\n",
      "['553834731', 'Candy Crush Saga', '222846976', 'USD', '0.0', '961794', '2453', '4.5', '4.5', '1.101.0', '4+', 'Games', '43', '5', '24', '1']\n",
      "\n",
      "\n",
      "['324684580', 'Spotify Music', '132510720', 'USD', '0.0', '878563', '8253', '4.5', '4.5', '8.4.3', '12+', 'Music', '37', '5', '18', '1']\n",
      "\n",
      "\n",
      "['343200656', 'Angry Birds', '175966208', 'USD', '0.0', '824451', '107', '4.5', '3.0', '7.4.0', '4+', 'Games', '38', '0', '10', '1']\n",
      "\n",
      "\n",
      "Number of rows: 6183\n",
      "Number of columns: 16\n",
      "\n",
      "\n",
      "['445375097', '爱奇艺PPS -《欢乐颂2》电视剧热播', '224617472', 'USD', '0.0', '14844', '0', '4.0', '0.0', '6.3.3', '17+', 'Entertainment', '38', '5', '3', '1']\n",
      "\n",
      "\n",
      "['405667771', '聚力视频HD-人民的名义,跨界歌王全网热播', '90725376', 'USD', '0.0', '7446', '8', '4.0', '4.5', '5.0.8', '12+', 'Entertainment', '24', '4', '1', '1']\n",
      "\n",
      "\n",
      "['336141475', '优酷视频', '204959744', 'USD', '0.0', '4885', '0', '3.5', '0.0', '6.7.0', '12+', 'Entertainment', '38', '0', '2', '1']\n",
      "\n",
      "\n",
      "['425349261', '网易新闻 - 精选好内容，算出你的兴趣', '133134336', 'USD', '0.0', '4263', '6', '4.5', '1.0', '23.2', '17+', 'News', '37', '4', '2', '1']\n",
      "\n",
      "\n",
      "['387682726', '淘宝 - 随时随地，想淘就淘', '309673984', 'USD', '0.0', '3801', '6', '4.0', '4.0', '6.7.2', '4+', 'Shopping', '37', '1', '1', '1']\n",
      "\n",
      "\n",
      "['414430589', '搜狐视频HD-欢乐颂2 全网首播', '79696896', 'USD', '0.0', '3768', '5', '4.0', '3.0', '6.6', '17+', 'Entertainment', '24', '5', '1', '1']\n",
      "\n",
      "\n",
      "['895670960', '阴阳师-全区互通现世集结', '1040563200', 'USD', '0.0', '3478', '68', '4.5', '3.0', '1.0.20', '9+', 'Games', '37', '5', '1', '1']\n",
      "\n",
      "\n",
      "['477927812', '百度贴吧-全球最大兴趣交友社区', '123991040', 'USD', '0.0', '2860', '4', '4.0', '4.0', '8.4.3', '17+', 'Social Networking', '37', '0', '1', '1']\n",
      "\n",
      "\n",
      "['547166701', '百度网盘', '114601984', 'USD', '0.0', '2434', '7', '4.5', '5.0', '7.1.1', '12+', 'Productivity', '38', '0', '1', '1']\n",
      "\n",
      "\n",
      "['409563112', '爱奇艺HD -《欢乐颂2》电视剧热播', '154600448', 'USD', '0.0', '2394', '0', '4.0', '0.0', '8.5.1', '17+', 'Entertainment', '24', '5', '2', '1']\n",
      "\n",
      "\n",
      "Number of rows: 1014\n",
      "Number of columns: 16\n"
     ]
    }
   ],
   "source": [
    "english_apps_apple = []\n",
    "non_english_apps_apple = []\n",
    "english_apps_google = []\n",
    "non_english_apps_google = []\n",
    "\n",
    "for app in apple:\n",
    "    name = app[1]\n",
    "    if isEnglish(name):\n",
    "        english_apps_apple.append(app)\n",
    "    else:\n",
    "        non_english_apps_apple.append(app)\n",
    "        \n",
    "for app in android_clean:\n",
    "    name = app[0]\n",
    "    if isEnglish(name):\n",
    "        english_apps_google.append(app)\n",
    "    else:\n",
    "        non_english_apps_google.append(app)\n",
    "\n",
    "\n",
    "explore_data(english_apps_google, 0, 10, rows_and_columns=True)\n",
    "print('\\n')\n",
    "explore_data(non_english_apps_google, 0, 10, rows_and_columns=True)\n",
    "print('\\n')\n",
    "explore_data(english_apps_apple, 0, 10, rows_and_columns=True)\n",
    "print('\\n')\n",
    "explore_data(non_english_apps_apple, 0, 10, rows_and_columns=True)\n"
   ]
  },
  {
   "cell_type": "markdown",
   "metadata": {},
   "source": [
    "We now have two datasets that don't have errors, duplicates, and non-english apps. Isolating the free apps will be our last step in the data cleaning process. "
   ]
  },
  {
   "cell_type": "markdown",
   "metadata": {},
   "source": [
    "### Isolating the Free Apps\n",
    "\n",
    "As we mentioned in the introduction, we only build apps that are free to download and install, and our main source of revenue consists of in-app ads. Our data sets contain both free and non-free apps so we'll need to isolate only the free apps for our analysis."
   ]
  },
  {
   "cell_type": "code",
   "execution_count": 32,
   "metadata": {},
   "outputs": [
    {
     "name": "stdout",
     "output_type": "stream",
     "text": [
      "['Photo Editor & Candy Camera & Grid & ScrapBook', 'ART_AND_DESIGN', '4.1', '159', '19M', '10,000+', 'Free', '0', 'Everyone', 'Art & Design', 'January 7, 2018', '1.0.0', '4.0.3 and up']\n",
      "\n",
      "\n",
      "['U Launcher Lite – FREE Live Cool Themes, Hide Apps', 'ART_AND_DESIGN', '4.7', '87510', '8.7M', '5,000,000+', 'Free', '0', 'Everyone', 'Art & Design', 'August 1, 2018', '1.2.4', '4.0.3 and up']\n",
      "\n",
      "\n",
      "['Sketch - Draw & Paint', 'ART_AND_DESIGN', '4.5', '215644', '25M', '50,000,000+', 'Free', '0', 'Teen', 'Art & Design', 'June 8, 2018', 'Varies with device', '4.2 and up']\n",
      "\n",
      "\n",
      "['Pixel Draw - Number Art Coloring Book', 'ART_AND_DESIGN', '4.3', '967', '2.8M', '100,000+', 'Free', '0', 'Everyone', 'Art & Design;Creativity', 'June 20, 2018', '1.1', '4.4 and up']\n",
      "\n",
      "\n",
      "['Paper flowers instructions', 'ART_AND_DESIGN', '4.4', '167', '5.6M', '50,000+', 'Free', '0', 'Everyone', 'Art & Design', 'March 26, 2017', '1.0', '2.3 and up']\n",
      "\n",
      "\n",
      "['Smoke Effect Photo Maker - Smoke Editor', 'ART_AND_DESIGN', '3.8', '178', '19M', '50,000+', 'Free', '0', 'Everyone', 'Art & Design', 'April 26, 2018', '1.1', '4.0.3 and up']\n",
      "\n",
      "\n",
      "['Infinite Painter', 'ART_AND_DESIGN', '4.1', '36815', '29M', '1,000,000+', 'Free', '0', 'Everyone', 'Art & Design', 'June 14, 2018', '6.1.61.1', '4.2 and up']\n",
      "\n",
      "\n",
      "['Garden Coloring Book', 'ART_AND_DESIGN', '4.4', '13791', '33M', '1,000,000+', 'Free', '0', 'Everyone', 'Art & Design', 'September 20, 2017', '2.9.2', '3.0 and up']\n",
      "\n",
      "\n",
      "['Kids Paint Free - Drawing Fun', 'ART_AND_DESIGN', '4.7', '121', '3.1M', '10,000+', 'Free', '0', 'Everyone', 'Art & Design;Creativity', 'July 3, 2018', '2.8', '4.0.3 and up']\n",
      "\n",
      "\n",
      "['Text on Photo - Fonteee', 'ART_AND_DESIGN', '4.4', '13880', '28M', '1,000,000+', 'Free', '0', 'Everyone', 'Art & Design', 'October 27, 2017', '1.0.4', '4.1 and up']\n",
      "\n",
      "\n",
      "Number of rows: 8864\n",
      "Number of columns: 13\n",
      "\n",
      "\n",
      "['284882215', 'Facebook', '389879808', 'USD', '0.0', '2974676', '212', '3.5', '3.5', '95.0', '4+', 'Social Networking', '37', '1', '29', '1']\n",
      "\n",
      "\n",
      "['389801252', 'Instagram', '113954816', 'USD', '0.0', '2161558', '1289', '4.5', '4.0', '10.23', '12+', 'Photo & Video', '37', '0', '29', '1']\n",
      "\n",
      "\n",
      "['529479190', 'Clash of Clans', '116476928', 'USD', '0.0', '2130805', '579', '4.5', '4.5', '9.24.12', '9+', 'Games', '38', '5', '18', '1']\n",
      "\n",
      "\n",
      "['420009108', 'Temple Run', '65921024', 'USD', '0.0', '1724546', '3842', '4.5', '4.0', '1.6.2', '9+', 'Games', '40', '5', '1', '1']\n",
      "\n",
      "\n",
      "['284035177', 'Pandora - Music & Radio', '130242560', 'USD', '0.0', '1126879', '3594', '4.0', '4.5', '8.4.1', '12+', 'Music', '37', '4', '1', '1']\n",
      "\n",
      "\n",
      "['429047995', 'Pinterest', '74778624', 'USD', '0.0', '1061624', '1814', '4.5', '4.0', '6.26', '12+', 'Social Networking', '37', '5', '27', '1']\n",
      "\n",
      "\n",
      "['282935706', 'Bible', '92774400', 'USD', '0.0', '985920', '5320', '4.5', '5.0', '7.5.1', '4+', 'Reference', '37', '5', '45', '1']\n",
      "\n",
      "\n",
      "['553834731', 'Candy Crush Saga', '222846976', 'USD', '0.0', '961794', '2453', '4.5', '4.5', '1.101.0', '4+', 'Games', '43', '5', '24', '1']\n",
      "\n",
      "\n",
      "['324684580', 'Spotify Music', '132510720', 'USD', '0.0', '878563', '8253', '4.5', '4.5', '8.4.3', '12+', 'Music', '37', '5', '18', '1']\n",
      "\n",
      "\n",
      "['343200656', 'Angry Birds', '175966208', 'USD', '0.0', '824451', '107', '4.5', '3.0', '7.4.0', '4+', 'Games', '38', '0', '10', '1']\n",
      "\n",
      "\n",
      "Number of rows: 3222\n",
      "Number of columns: 16\n"
     ]
    }
   ],
   "source": [
    "free_apps_apple = []\n",
    "paid_apps_apple = []\n",
    "\n",
    "free_apps_google = []\n",
    "paid_apps_google = []\n",
    "\n",
    "for app in english_apps_apple:\n",
    "    price = app[4]\n",
    "    if price == '0.0':\n",
    "        free_apps_apple.append(app)\n",
    "    else:\n",
    "        paid_apps_apple.append(app)\n",
    "        \n",
    "\n",
    "for app in english_apps_google:\n",
    "    price = app[7]\n",
    "    if price == '0':\n",
    "        free_apps_google.append(app)\n",
    "    else:\n",
    "        paid_apps_google.append(app)\n",
    "\n",
    "\n",
    "explore_data(free_apps_google, 0, 10, rows_and_columns=True)\n",
    "print('\\n')\n",
    "explore_data(free_apps_apple, 0, 10, rows_and_columns=True)\n",
    "\n"
   ]
  },
  {
   "cell_type": "markdown",
   "metadata": {},
   "source": [
    "The code above is very simple as it just uses two separate for loops to construct two datasets using the most updated lists(english_apps_apple and english_apps_google). We iterate through the lists to extract the price and use an if/else clause to identify the free apps and append them to a final set of lists (free_apps_apple and free_apps_google).\n",
    "\n",
    "This concludes our data cleaning process for this project, now let's prepare our analysis using our clean and updated datasets. "
   ]
  },
  {
   "cell_type": "markdown",
   "metadata": {},
   "source": [
    "## Analysis of App Profiles \n",
    "\n",
    "As we mentioned in the introduction, our aim is to determine the kinds of apps that are likely to attract more users because our revenue is highly influenced by the number of people using our apps.\n",
    "\n",
    "To minimize risks and overhead, our validation strategy for an app idea is comprised of three steps:\n",
    "\n",
    "- Build a minimal Android version of the app, and add it to Google Play.\n",
    "- If the app has a good response from users, we then develop it further.\n",
    "- If the app is profitable after six months, we also build an iOS version of the app and add it to the App Store.\n",
    "  \n",
    "We will need to find app profiles that are successful on both markets in order to reach our end goal. What defines a successful app profile? In our case, there are two things that we should be looking for: commonality and popularity. Therefore, we will find the most common apps by genre first and then move on to finding the most popular apps.  "
   ]
  },
  {
   "cell_type": "markdown",
   "metadata": {},
   "source": [
    "### Most Common Apps by Genre\n",
    "\n",
    "Let's analyze both data sets and identify the columns we could use to generate frequency tables to find out what the most common genres in each market are."
   ]
  },
  {
   "cell_type": "code",
   "execution_count": 33,
   "metadata": {
    "scrolled": false
   },
   "outputs": [
    {
     "name": "stdout",
     "output_type": "stream",
     "text": [
      "['id', 'track_name', 'size_bytes', 'currency', 'price', 'rating_count_tot', 'rating_count_ver', 'user_rating', 'user_rating_ver', 'ver', 'cont_rating', 'prime_genre', 'sup_devices.num', 'ipadSc_urls.num', 'lang.num', 'vpp_lic']\n",
      "\n",
      "\n",
      "['App', 'Category', 'Rating', 'Reviews', 'Size', 'Installs', 'Type', 'Price', 'Content Rating', 'Genres', 'Last Updated', 'Current Ver', 'Android Ver']\n"
     ]
    }
   ],
   "source": [
    "print(apple_columns)\n",
    "print('\\n')\n",
    "print(google_columns)"
   ]
  },
  {
   "cell_type": "markdown",
   "metadata": {},
   "source": [
    "In the Apple dataset we will use the 'prime_genre' column and for the Google dataset we will use the 'Genres' column. In addition to 'Genres', we will also do an analysis using the 'Category' column of the Google dataset to see if we get differing results using similar columns.\n",
    "\n",
    "Let's now build a function to generate a frequency table that creates a unique entry for each genre, using the genre itself as the key and a percentage of how many times an app in that particular genre is built. We will also create a a function called display_table that will organize our data from highest to lowest percentages.  "
   ]
  },
  {
   "cell_type": "code",
   "execution_count": 50,
   "metadata": {},
   "outputs": [],
   "source": [
    "def freq_table(dataset, index):\n",
    "    \n",
    "    frequency_table = {}\n",
    "    \n",
    "    for entry in dataset:\n",
    "        \n",
    "        key = entry[index]\n",
    "        if key in frequency_table:\n",
    "            frequency_table[key] += 1\n",
    "        else:\n",
    "            frequency_table[key] = 1\n",
    "            \n",
    "    for key in frequency_table:\n",
    "        frequency_table[key] = round((frequency_table[key]/len(dataset)) * 100, 4)\n",
    "        \n",
    "    \n",
    "    return frequency_table\n",
    "\n",
    "\n",
    "\n"
   ]
  },
  {
   "cell_type": "code",
   "execution_count": 51,
   "metadata": {},
   "outputs": [],
   "source": [
    "def display_table(dataset, index):\n",
    "    table = freq_table(dataset, index)\n",
    "    table_display = []\n",
    "    \n",
    "    for key in table:\n",
    "        key_val_as_tuple = (table[key], key)\n",
    "        table_display.append(key_val_as_tuple)\n",
    "\n",
    "    table_sorted = sorted(table_display, reverse = True)\n",
    "    \n",
    "    for entry in table_sorted:\n",
    "        print(entry[1], ':', entry[0])\n"
   ]
  },
  {
   "cell_type": "markdown",
   "metadata": {},
   "source": [
    "Using these two functions we can now print and visualize the most common free apps in both the App Store and Google Play: "
   ]
  },
  {
   "cell_type": "code",
   "execution_count": 52,
   "metadata": {},
   "outputs": [
    {
     "name": "stdout",
     "output_type": "stream",
     "text": [
      "Percentage of most common free Apple apps by genre\n",
      "\n",
      "Games : 58.1626\n",
      "Entertainment : 7.8833\n",
      "Photo & Video : 4.9659\n",
      "Education : 3.6623\n",
      "Social Networking : 3.2899\n",
      "Shopping : 2.6071\n",
      "Utilities : 2.514\n",
      "Sports : 2.1415\n",
      "Music : 2.0484\n",
      "Health & Fitness : 2.0174\n",
      "Productivity : 1.7381\n",
      "Lifestyle : 1.5829\n",
      "News : 1.3346\n",
      "Travel : 1.2415\n",
      "Finance : 1.1173\n",
      "Weather : 0.869\n",
      "Food & Drink : 0.807\n",
      "Reference : 0.5587\n",
      "Business : 0.5276\n",
      "Book : 0.4345\n",
      "Navigation : 0.1862\n",
      "Medical : 0.1862\n",
      "Catalogs : 0.1241\n"
     ]
    }
   ],
   "source": [
    "print('Percentage of most common free English Apple apps by genre\\n')\n",
    "display_table(free_apps_apple, 11)"
   ]
  },
  {
   "cell_type": "markdown",
   "metadata": {},
   "source": [
    "We can see that among the free English apps, the majority of apps (58.16%) are games. Entertainment apps are close to 8%, followed by photo and video apps, which are close to 5%. Only 3.66% of the apps are designed for education, followed by social networking apps which amount for 3.29% of the apps in our data set.\n",
    "\n",
    "Observing these results, the general consensus should be that the free apps in the App Store mostly consist of apps that are designed for fun (games, entertainment, photo and video, social networking, sports, music, etc.), \n",
    "\n",
    "Let's continue by examining the 'Genres' and 'Category' columns of the Google Play data set. "
   ]
  },
  {
   "cell_type": "code",
   "execution_count": 55,
   "metadata": {},
   "outputs": [
    {
     "name": "stdout",
     "output_type": "stream",
     "text": [
      "\n",
      "Percentage of most common free English Google apps by genre\n",
      "\n",
      "Tools : 8.4499\n",
      "Entertainment : 6.0695\n",
      "Education : 5.3475\n",
      "Business : 4.5916\n",
      "Productivity : 3.8921\n",
      "Lifestyle : 3.8921\n",
      "Finance : 3.7004\n",
      "Medical : 3.5311\n",
      "Sports : 3.4634\n",
      "Personalization : 3.3168\n",
      "Communication : 3.2378\n",
      "Action : 3.1024\n",
      "Health & Fitness : 3.0799\n",
      "Photography : 2.9445\n",
      "News & Magazines : 2.7978\n",
      "Social : 2.6625\n",
      "Travel & Local : 2.324\n",
      "Shopping : 2.245\n",
      "Books & Reference : 2.1435\n",
      "Simulation : 2.042\n",
      "Dating : 1.8615\n",
      "Arcade : 1.8502\n",
      "Video Players & Editors : 1.7712\n",
      "Casual : 1.7599\n",
      "Maps & Navigation : 1.3989\n",
      "Food & Drink : 1.241\n",
      "Puzzle : 1.1282\n",
      "Racing : 0.9928\n",
      "Role Playing : 0.9364\n",
      "Libraries & Demo : 0.9364\n",
      "Auto & Vehicles : 0.9251\n",
      "Strategy : 0.9138\n",
      "House & Home : 0.8236\n",
      "Weather : 0.801\n",
      "Events : 0.7107\n",
      "Adventure : 0.6769\n",
      "Comics : 0.6092\n",
      "Beauty : 0.5979\n",
      "Art & Design : 0.5979\n",
      "Parenting : 0.4964\n",
      "Card : 0.4513\n",
      "Casino : 0.4287\n",
      "Trivia : 0.4174\n",
      "Educational;Education : 0.3949\n",
      "Board : 0.3836\n",
      "Educational : 0.3723\n",
      "Education;Education : 0.3384\n",
      "Word : 0.2595\n",
      "Casual;Pretend Play : 0.2369\n",
      "Music : 0.2031\n",
      "Racing;Action & Adventure : 0.1692\n",
      "Puzzle;Brain Games : 0.1692\n",
      "Entertainment;Music & Video : 0.1692\n",
      "Casual;Brain Games : 0.1354\n",
      "Casual;Action & Adventure : 0.1354\n",
      "Arcade;Action & Adventure : 0.1241\n",
      "Action;Action & Adventure : 0.1015\n",
      "Educational;Pretend Play : 0.0903\n",
      "Simulation;Action & Adventure : 0.079\n",
      "Parenting;Education : 0.079\n",
      "Entertainment;Brain Games : 0.079\n",
      "Board;Brain Games : 0.079\n",
      "Parenting;Music & Video : 0.0677\n",
      "Educational;Brain Games : 0.0677\n",
      "Casual;Creativity : 0.0677\n",
      "Art & Design;Creativity : 0.0677\n",
      "Education;Pretend Play : 0.0564\n",
      "Role Playing;Pretend Play : 0.0451\n",
      "Education;Creativity : 0.0451\n",
      "Role Playing;Action & Adventure : 0.0338\n",
      "Puzzle;Action & Adventure : 0.0338\n",
      "Entertainment;Creativity : 0.0338\n",
      "Entertainment;Action & Adventure : 0.0338\n",
      "Educational;Creativity : 0.0338\n",
      "Educational;Action & Adventure : 0.0338\n",
      "Education;Music & Video : 0.0338\n",
      "Education;Brain Games : 0.0338\n",
      "Education;Action & Adventure : 0.0338\n",
      "Adventure;Action & Adventure : 0.0338\n",
      "Video Players & Editors;Music & Video : 0.0226\n",
      "Sports;Action & Adventure : 0.0226\n",
      "Simulation;Pretend Play : 0.0226\n",
      "Puzzle;Creativity : 0.0226\n",
      "Music;Music & Video : 0.0226\n",
      "Entertainment;Pretend Play : 0.0226\n",
      "Casual;Education : 0.0226\n",
      "Board;Action & Adventure : 0.0226\n",
      "Video Players & Editors;Creativity : 0.0113\n",
      "Trivia;Education : 0.0113\n",
      "Travel & Local;Action & Adventure : 0.0113\n",
      "Tools;Education : 0.0113\n",
      "Strategy;Education : 0.0113\n",
      "Strategy;Creativity : 0.0113\n",
      "Strategy;Action & Adventure : 0.0113\n",
      "Simulation;Education : 0.0113\n",
      "Role Playing;Brain Games : 0.0113\n",
      "Racing;Pretend Play : 0.0113\n",
      "Puzzle;Education : 0.0113\n",
      "Parenting;Brain Games : 0.0113\n",
      "Music & Audio;Music & Video : 0.0113\n",
      "Lifestyle;Pretend Play : 0.0113\n",
      "Lifestyle;Education : 0.0113\n",
      "Health & Fitness;Education : 0.0113\n",
      "Health & Fitness;Action & Adventure : 0.0113\n",
      "Entertainment;Education : 0.0113\n",
      "Communication;Creativity : 0.0113\n",
      "Comics;Creativity : 0.0113\n",
      "Casual;Music & Video : 0.0113\n",
      "Card;Action & Adventure : 0.0113\n",
      "Books & Reference;Education : 0.0113\n",
      "Art & Design;Pretend Play : 0.0113\n",
      "Art & Design;Action & Adventure : 0.0113\n",
      "Arcade;Pretend Play : 0.0113\n",
      "Adventure;Education : 0.0113\n"
     ]
    }
   ],
   "source": [
    "print('\\nPercentage of most common free English Google apps by genre\\n')\n",
    "display_table(free_apps_google, 9)\n"
   ]
  },
  {
   "cell_type": "markdown",
   "metadata": {},
   "source": [
    "On Google Play, it seems that not many apps are designed for fun, and it looks as if a good number of apps are designed for practical purposes (tools, education, business, lifestyle, productivity, etc.). \n",
    "\n",
    "Before we do a more thorough analysis, let's look at the frequency table using the 'Category' column:"
   ]
  },
  {
   "cell_type": "code",
   "execution_count": 56,
   "metadata": {},
   "outputs": [
    {
     "name": "stdout",
     "output_type": "stream",
     "text": [
      "\n",
      "Percentage of most common free English Google apps by category\n",
      "\n",
      "FAMILY : 18.9079\n",
      "GAME : 9.7247\n",
      "TOOLS : 8.4612\n",
      "BUSINESS : 4.5916\n",
      "LIFESTYLE : 3.9034\n",
      "PRODUCTIVITY : 3.8921\n",
      "FINANCE : 3.7004\n",
      "MEDICAL : 3.5311\n",
      "SPORTS : 3.3958\n",
      "PERSONALIZATION : 3.3168\n",
      "COMMUNICATION : 3.2378\n",
      "HEALTH_AND_FITNESS : 3.0799\n",
      "PHOTOGRAPHY : 2.9445\n",
      "NEWS_AND_MAGAZINES : 2.7978\n",
      "SOCIAL : 2.6625\n",
      "TRAVEL_AND_LOCAL : 2.3353\n",
      "SHOPPING : 2.245\n",
      "BOOKS_AND_REFERENCE : 2.1435\n",
      "DATING : 1.8615\n",
      "VIDEO_PLAYERS : 1.7938\n",
      "MAPS_AND_NAVIGATION : 1.3989\n",
      "FOOD_AND_DRINK : 1.241\n",
      "EDUCATION : 1.162\n",
      "ENTERTAINMENT : 0.9589\n",
      "LIBRARIES_AND_DEMO : 0.9364\n",
      "AUTO_AND_VEHICLES : 0.9251\n",
      "HOUSE_AND_HOME : 0.8236\n",
      "WEATHER : 0.801\n",
      "EVENTS : 0.7107\n",
      "PARENTING : 0.6543\n",
      "ART_AND_DESIGN : 0.6431\n",
      "COMICS : 0.6205\n",
      "BEAUTY : 0.5979\n"
     ]
    }
   ],
   "source": [
    "print('\\nPercentage of most common free English Google apps by category\\n')\n",
    "display_table(free_apps_google, 1)"
   ]
  },
  {
   "cell_type": "markdown",
   "metadata": {},
   "source": [
    "Observing the results, we see that many of the entry's are duplicated from the 'Genres' column and have similar percentages, but the top entry which is 'Family' is only present in the 'Category' column. However, if we actually go to Gooogle Play and search the family category, we will see that it is mostly made up of games for kids. \n",
    "\n",
    "The difference between the Genres and the Category columns is not crystal clear, but we can see that in the Genres column a general games entry is missing and we could have mistakenly concluded that 'Tools' is the most common type of app. This tells us that the frequency table using 'Genres' might be too scattered for a proper analysis, thus we'll only work with the Category column moving forward.\n",
    "\n",
    "Up to this point, we found that the App Store is mostly made up of apps designed for fun, while Google Play shows a landscape that also puts practical apps as a viable contender for commonality. Now we'd like to get an idea about the kind of apps that have the most users, so let's construct a table to see which apps by genre are the most popular.\n"
   ]
  },
  {
   "cell_type": "markdown",
   "metadata": {},
   "source": [
    "### Most Popular Apps by Genre on the App Store\n",
    "\n",
    "We can calculate popularity by seeing which type of apps have the most users. Looking at the dataset, it makes sense to use the 'Installs' column for Google Play, as it tells us the number of downloads for each app. Unfortunately in the App Store dataset, there is no column that tells us how many installs there are for each app. We'll have to think outside the box here and use the 'rating_count_tot' column. This column gives us the total number of user ratings for each app. The logic here is that the more ratings an app has, the higher the number of users and thus the higher its popularity. \n",
    "\n",
    "Let's begin the final part of our project by calculating the average number of user ratings per app by genre in the App Store: \n"
   ]
  },
  {
   "cell_type": "code",
   "execution_count": 110,
   "metadata": {
    "scrolled": true
   },
   "outputs": [
    {
     "name": "stdout",
     "output_type": "stream",
     "text": [
      "Navigation : 86,090\n",
      "Reference : 74,942\n",
      "Social Networking : 71,548\n",
      "Music : 57,327\n",
      "Weather : 52,280\n",
      "Book : 39,758\n",
      "Food & Drink : 33,334\n",
      "Finance : 31,468\n",
      "Photo & Video : 28,442\n",
      "Travel : 28,244\n",
      "Shopping : 26,920\n",
      "Health & Fitness : 23,298\n",
      "Sports : 23,009\n",
      "Games : 22,789\n",
      "News : 21,248\n",
      "Productivity : 21,028\n",
      "Utilities : 18,684\n",
      "Lifestyle : 16,486\n",
      "Entertainment : 14,030\n",
      "Business : 7,491\n",
      "Education : 7,004\n",
      "Catalogs : 4,004\n",
      "Medical : 612\n"
     ]
    }
   ],
   "source": [
    "prime_genre_table = freq_table(free_apps_apple, 11)\n",
    "table = []\n",
    "\n",
    "for genre in prime_genre_table:\n",
    "    total = 0\n",
    "    len_genre = 0\n",
    "    \n",
    "    for app in free_apps_apple:\n",
    "        genre_app = app[11]\n",
    "        \n",
    "        if genre_app == genre:\n",
    "            total += float(app[5])\n",
    "            len_genre += 1\n",
    "            \n",
    "    table_tuple = (total/len_genre, genre)\n",
    "    table.append(table_tuple)\n",
    "\n",
    "table_sorted = sorted(table, reverse = True)\n",
    "    \n",
    "for entry in table_sorted:\n",
    "    print('{} : {:,.0f}'.format(entry[1], entry[0]))    \n",
    "    "
   ]
  },
  {
   "cell_type": "markdown",
   "metadata": {},
   "source": [
    "We see that 'Navigation' apps is leading the way in providing the most user reviews, let's see which apps dominate this genre and exactly how many ratings they have:"
   ]
  },
  {
   "cell_type": "code",
   "execution_count": 108,
   "metadata": {},
   "outputs": [
    {
     "name": "stdout",
     "output_type": "stream",
     "text": [
      "Waze - GPS Navigation, Maps & Real-time Traffic : 345,046\n",
      "Google Maps - Navigation & Transit : 154,911\n",
      "Geocaching® : 12,811\n",
      "CoPilot GPS – Car Navigation & Offline Maps : 3,582\n",
      "ImmobilienScout24: Real Estate Search in Germany : 187\n",
      "Railway Route Search : 5\n"
     ]
    }
   ],
   "source": [
    "for app in free_apps_apple:\n",
    "    if app[-5] == 'Navigation':\n",
    "        print('{} : {:,}'.format(app[1], int(app[5])))"
   ]
  },
  {
   "cell_type": "markdown",
   "metadata": {},
   "source": [
    "When we visualize the apps that are making up most of the reviews we find that Waze and Google Maps have the majority of the user reviews. Seeing that two apps are dominating this entire genre and the next popular app only has 12,811 reviews, we have to ask ourselves do we really want to spend our time competing with these two giants. Is there anything different we can create that will persuade the user to use our app rather than these two popular ones? The goal of our company is to increase the number of users that utilize our apps, but unless we have an idea that will disrupt the GPS market, creating a navigation app right now seems like a roll of the dice and it would most likely be a miss than a hit because of how heavily people depend on Waze and Google Maps. \n",
    "\n",
    "Let's move on and explore the second most reviewed genre, which is 'Reference' and see if there's a potential profitable profile in there:"
   ]
  },
  {
   "cell_type": "code",
   "execution_count": 109,
   "metadata": {},
   "outputs": [
    {
     "name": "stdout",
     "output_type": "stream",
     "text": [
      "Bible : 985,920\n",
      "Dictionary.com Dictionary & Thesaurus : 200,047\n",
      "Dictionary.com Dictionary & Thesaurus for iPad : 54,175\n",
      "Google Translate : 26,786\n",
      "Muslim Pro: Ramadan 2017 Prayer Times, Azan, Quran : 18,418\n",
      "New Furniture Mods - Pocket Wiki & Game Tools for Minecraft PC Edition : 17,588\n",
      "Merriam-Webster Dictionary : 16,849\n",
      "Night Sky : 12,122\n",
      "City Maps for Minecraft PE - The Best Maps for Minecraft Pocket Edition (MCPE) : 8,535\n",
      "LUCKY BLOCK MOD ™ for Minecraft PC Edition - The Best Pocket Wiki & Mods Installer Tools : 4,693\n",
      "GUNS MODS for Minecraft PC Edition - Mods Tools : 1,497\n",
      "Guides for Pokémon GO - Pokemon GO News and Cheats : 826\n",
      "WWDC : 762\n",
      "Horror Maps for Minecraft PE - Download The Scariest Maps for Minecraft Pocket Edition (MCPE) Free : 718\n",
      "VPN Express : 14\n",
      "Real Bike Traffic Rider Virtual Reality Glasses : 8\n",
      "教えて!goo : 0\n",
      "Jishokun-Japanese English Dictionary & Translator : 0\n"
     ]
    }
   ],
   "source": [
    "for app in free_apps_apple:\n",
    "    if app[-5] == 'Reference':\n",
    "        print('{} : {:,}'.format(app[1], int(app[5])))"
   ]
  },
  {
   "cell_type": "markdown",
   "metadata": {},
   "source": [
    "The Bible app seems to have the most reviews here, but other than that we see that this genre is not dominated by only a couple of apps. The main reason for this could be is that there are various books that are popular and not just a given few. Given this information we can potentially convert a popular book into an app and add features that are not offered in any of the apps that exist already. For example, there doesn't seem to be any medical books listed here, maybe we can create a medical dictionary that would be referenced by medical professions or even patients. \n"
   ]
  },
  {
   "cell_type": "markdown",
   "metadata": {},
   "source": [
    "### Most Popular Apps by Genre on Google Play\n",
    "\n",
    "Now that we identified a potential popular profile for the App Store, let's analyze the Google PlayStore to verify if a book app would be befitting for our company. Remember, our goal is to create a Google app first and see if does well before we create it for the App Store. \n",
    "\n",
    "We noticed that the 'Installs' column would be able to give us an idea of the popularity of an app genre. Keep in mind, 'Installs' does have a flaw, in which it doesn't give us an exact number, but rather it tells us the minimum amount of installs. Thus, we will use the information we are given and calculate the average number of installs per genre using the minimum amount of installs. "
   ]
  },
  {
   "cell_type": "code",
   "execution_count": 103,
   "metadata": {},
   "outputs": [
    {
     "name": "stdout",
     "output_type": "stream",
     "text": [
      "COMMUNICATION : 38,456,119\n",
      "VIDEO_PLAYERS : 24,727,872\n",
      "SOCIAL : 23,253,652\n",
      "PHOTOGRAPHY : 17,840,110\n",
      "PRODUCTIVITY : 16,787,331\n",
      "GAME : 15,588,016\n",
      "TRAVEL_AND_LOCAL : 13,984,078\n",
      "ENTERTAINMENT : 11,640,706\n",
      "TOOLS : 10,801,391\n",
      "NEWS_AND_MAGAZINES : 9,549,178\n",
      "BOOKS_AND_REFERENCE : 8,767,812\n",
      "SHOPPING : 7,036,877\n",
      "PERSONALIZATION : 5,201,483\n",
      "WEATHER : 5,074,486\n",
      "HEALTH_AND_FITNESS : 4,188,822\n",
      "MAPS_AND_NAVIGATION : 4,056,942\n",
      "FAMILY : 3,695,642\n",
      "SPORTS : 3,638,640\n",
      "ART_AND_DESIGN : 1,986,335\n",
      "FOOD_AND_DRINK : 1,924,898\n",
      "EDUCATION : 1,833,495\n",
      "BUSINESS : 1,712,290\n",
      "LIFESTYLE : 1,437,816\n",
      "FINANCE : 1,387,692\n",
      "HOUSE_AND_HOME : 1,331,541\n",
      "DATING : 854,029\n",
      "COMICS : 817,657\n",
      "AUTO_AND_VEHICLES : 647,318\n",
      "LIBRARIES_AND_DEMO : 638,504\n",
      "PARENTING : 542,604\n",
      "BEAUTY : 513,152\n",
      "EVENTS : 253,542\n",
      "MEDICAL : 120,551\n"
     ]
    }
   ],
   "source": [
    "category_table = freq_table(free_apps_google, 1)\n",
    "table = []\n",
    "\n",
    "for category in category_table:\n",
    "    total = 0\n",
    "    len_category = 0\n",
    "    \n",
    "    for app in free_apps_google:\n",
    "        category_app = app[1]\n",
    "        \n",
    "        if category_app == category:\n",
    "            installs = app[5]\n",
    "            installs = installs.replace('+', '')\n",
    "            installs = installs.replace(',', '')\n",
    "            total += float(installs)\n",
    "            len_category += 1\n",
    "            \n",
    "    table_tuple = (total/len_category, category)\n",
    "    table.append(table_tuple)\n",
    "\n",
    "table_sorted = sorted(table, reverse = True)\n",
    "    \n",
    "for entry in table_sorted:\n",
    "    print('{} : {:,.0f}'.format(entry[1], entry[0]))    \n",
    "           "
   ]
  },
  {
   "cell_type": "markdown",
   "metadata": {},
   "source": [
    "Communication seems to be the dominant genre in Google Play, but let's explore the top apps:"
   ]
  },
  {
   "cell_type": "code",
   "execution_count": 122,
   "metadata": {},
   "outputs": [
    {
     "name": "stdout",
     "output_type": "stream",
     "text": [
      "WhatsApp Messenger : 1,000,000,000+\n",
      "imo beta free calls and text : 100,000,000+\n",
      "Android Messages : 100,000,000+\n",
      "Google Duo - High Quality Video Calls : 500,000,000+\n",
      "Messenger – Text and Video Chat for Free : 1,000,000,000+\n",
      "imo free video calls and chat : 500,000,000+\n",
      "Skype - free IM & video calls : 1,000,000,000+\n",
      "Who : 100,000,000+\n",
      "GO SMS Pro - Messenger, Free Themes, Emoji : 100,000,000+\n",
      "LINE: Free Calls & Messages : 500,000,000+\n",
      "Google Chrome: Fast & Secure : 1,000,000,000+\n",
      "Firefox Browser fast & private : 100,000,000+\n",
      "UC Browser - Fast Download Private & Secure : 500,000,000+\n",
      "Gmail : 1,000,000,000+\n",
      "Hangouts : 1,000,000,000+\n",
      "Messenger Lite: Free Calls & Messages : 100,000,000+\n",
      "Kik : 100,000,000+\n",
      "KakaoTalk: Free Calls & Text : 100,000,000+\n",
      "Opera Mini - fast web browser : 100,000,000+\n",
      "Opera Browser: Fast and Secure : 100,000,000+\n",
      "Telegram : 100,000,000+\n",
      "Truecaller: Caller ID, SMS spam blocking & Dialer : 100,000,000+\n",
      "UC Browser Mini -Tiny Fast Private & Secure : 100,000,000+\n",
      "Viber Messenger : 500,000,000+\n",
      "WeChat : 100,000,000+\n",
      "Yahoo Mail – Stay Organized : 100,000,000+\n",
      "BBM - Free Calls & Messages : 100,000,000+\n"
     ]
    }
   ],
   "source": [
    "for app in free_apps_google:\n",
    "    if app[1] == 'COMMUNICATION' and (app[5] == '1,000,000,000+'\n",
    "                                      or app[5] == '500,000,000+'\n",
    "                                      or app[5] == '100,000,000+'):\n",
    "        print(app[0], ':', app[5])"
   ]
  },
  {
   "cell_type": "markdown",
   "metadata": {},
   "source": [
    "As you can see this genre is actually saturated with very popular apps that will be hard to compete with unless you have an idea that will disrupt the industry in some way and is very unique. Let's take a look at the second most popular genre, which is 'VIDEO_PLAYERS': "
   ]
  },
  {
   "cell_type": "code",
   "execution_count": 128,
   "metadata": {},
   "outputs": [
    {
     "name": "stdout",
     "output_type": "stream",
     "text": [
      "YouTube : 1,000,000,000+\n",
      "Motorola Gallery : 100,000,000+\n",
      "VLC for Android : 100,000,000+\n",
      "Google Play Movies & TV : 1,000,000,000+\n",
      "MX Player : 500,000,000+\n",
      "Dubsmash : 100,000,000+\n",
      "VivaVideo - Video Editor & Photo Movie : 100,000,000+\n",
      "VideoShow-Video Editor, Video Maker, Beauty Camera : 100,000,000+\n",
      "Motorola FM Radio : 100,000,000+\n"
     ]
    }
   ],
   "source": [
    "for app in free_apps_google:\n",
    "    if app[1] == 'VIDEO_PLAYERS' and (app[5] == '1,000,000,000+'\n",
    "                                            or app[5] == '500,000,000+'\n",
    "                                            or app[5] == '100,000,000+'):\n",
    "        print(app[0], ':', app[5])"
   ]
  },
  {
   "cell_type": "markdown",
   "metadata": {},
   "source": [
    "Here we have fewer number of apps that are over 100,000,000, but the most dominant app here is YouTube and right now our company is not in the market for creating a new video viewing platform, so let's move on. \n",
    "\n",
    "After observing two of the most popular genres we can conclude that most of the top genre's are saturated with apps that may be hard to compete with, but this doesn't mean we shouldn't look into creating any content for them. If we were actually working for a company and getting paid for a thorough analysis, we would definitely have to explore each and every category, but for the sake of this project let's go straight to the 'BOOKS_AND_REFERENCE' genre to see if our medical dictionary idea would be viable based on the landscape there.  "
   ]
  },
  {
   "cell_type": "code",
   "execution_count": 129,
   "metadata": {},
   "outputs": [
    {
     "name": "stdout",
     "output_type": "stream",
     "text": [
      "Google Play Books : 1,000,000,000+\n",
      "Bible : 100,000,000+\n",
      "Amazon Kindle : 100,000,000+\n",
      "Wattpad 📖 Free Books : 100,000,000+\n",
      "Audiobooks from Audible : 100,000,000+\n"
     ]
    }
   ],
   "source": [
    "for app in free_apps_google:\n",
    "    if app[1] == 'BOOKS_AND_REFERENCE' and (app[5] == '1,000,000,000+'\n",
    "                                            or app[5] == '500,000,000+'\n",
    "                                            or app[5] == '100,000,000+'):\n",
    "        print(app[0], ':', app[5])"
   ]
  },
  {
   "cell_type": "markdown",
   "metadata": {},
   "source": [
    "Looking at the results of the top number of installs for 'BOOKS_AND_REFERENCE' we can already see the potential here as there aren't too many popular apps that are dominating this genre. In addition, the apps that are dominating the genre are digital readers such as Google Play Books and Amazon Kindle. The Bible, like in the App Store remains the top book here also. "
   ]
  },
  {
   "cell_type": "markdown",
   "metadata": {},
   "source": [
    "## Conclusion"
   ]
  },
  {
   "cell_type": "markdown",
   "metadata": {},
   "source": [
    "Both the App Store and Google Play markets are vast and since their conception, apps have been continuously showing up on both these markets by the minute. It can get very challenging to create something that stands out from the rest and eventually brings in a revenue stream. In this project, we concluded from our analysis that if we wanted to create a profitable app profile, we should look into designing an app that digitizes a book and adds features that are unique to the app, perhaps a medical dictionary. At this stage, our analysis really just touched the tip of the surface. Our goal was to use Python and pinpoint the type of apps that would create a profit for our company. We could actually dive deeper and explore other genres to see if we can find other potential profiles that pique our interests, but we will leave this for a future project.   "
   ]
  }
 ],
 "metadata": {
  "kernelspec": {
   "display_name": "Python 3",
   "language": "python",
   "name": "python3"
  },
  "language_info": {
   "codemirror_mode": {
    "name": "ipython",
    "version": 3
   },
   "file_extension": ".py",
   "mimetype": "text/x-python",
   "name": "python",
   "nbconvert_exporter": "python",
   "pygments_lexer": "ipython3",
   "version": "3.7.6"
  }
 },
 "nbformat": 4,
 "nbformat_minor": 4
}
